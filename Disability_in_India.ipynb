{
  "nbformat": 4,
  "nbformat_minor": 0,
  "metadata": {
    "colab": {
      "name": "Disability_in_India.ipynb",
      "provenance": [],
      "collapsed_sections": []
    },
    "kernelspec": {
      "name": "python3",
      "display_name": "Python 3"
    }
  },
  "cells": [
    {
      "cell_type": "markdown",
      "metadata": {
        "id": "pSJWW0GFI0xz",
        "colab_type": "text"
      },
      "source": [
        "# A brief analysis on the plight of the disabled community in India by State.\n",
        "\n",
        "There are more than 26.8 million people or 2.2% of the population currently who have disabilities in India (Census 2011) which itself is said to be a very conservative estimate.  There is a lot of stigma associated with the disabled community and a very high inequality in terms of social as well as monetary status between the disabled community and the entire population.\n",
        "\n",
        "In this analysis, two main parameters are considered for comparison. And the comparison is done by state. The two parameters are literacy levels, and the % of the population in the workforce.\n",
        "\n",
        "### Methodology for the project: \n",
        "First the data required is collected from official government sources. We use the 2011 census as the primary source of data. The data is processed using SQL and formed into a single well structured CSV table. \n",
        "Next the data is visualized using Tableau to form insights into the data.\n",
        "\n",
        "Finally, using Python, we analyse the data and use  Jupyter notebooks  to draw conclusions and form the final report where the table formed during data processing will by analysed using Pandas, the  Tableau worksheets will be imported and embedded and the remaining analysis is conducted.\n",
        "\n",
        "### Source of data: \n",
        "The data is scraped/obtained from directly or indirectly from  the data provided\n",
        "by The Ministry of Statistics and Programme Implementation and The Office of the Registrar General.\n",
        "\n",
        "In the following section, the dataset prepared using SQL will be uploaded from the local source.\n",
        "\n",
        "### Importing the dataset and required libraries:\n",
        "\n"
      ]
    },
    {
      "cell_type": "code",
      "metadata": {
        "id": "9EH7fLM1IWll",
        "colab_type": "code",
        "colab": {
          "base_uri": "https://localhost:8080/",
          "height": 51
        },
        "outputId": "e195739d-ed48-40fd-943f-ee0fcd7e6350"
      },
      "source": [
        "# importing libraries\n",
        "import numpy as np\n",
        "import pandas as pd\n",
        "import seaborn as sns\n",
        "import matplotlib.pyplot as plt"
      ],
      "execution_count": 1,
      "outputs": [
        {
          "output_type": "stream",
          "text": [
            "/usr/local/lib/python3.6/dist-packages/statsmodels/tools/_testing.py:19: FutureWarning: pandas.util.testing is deprecated. Use the functions in the public API at pandas.testing instead.\n",
            "  import pandas.util.testing as tm\n"
          ],
          "name": "stderr"
        }
      ]
    },
    {
      "cell_type": "code",
      "metadata": {
        "id": "PPSVCGGkEVo3",
        "colab_type": "code",
        "outputId": "cf5f6167-f474-4337-c04f-2645a45b482f",
        "colab": {
          "resources": {
            "http://localhost:8080/nbextensions/google.colab/files.js": {
              "data": "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",
              "ok": true,
              "headers": [
                [
                  "content-type",
                  "application/javascript"
                ]
              ],
              "status": 200,
              "status_text": ""
            }
          },
          "base_uri": "https://localhost:8080/",
          "height": 112
        }
      },
      "source": [
        "# Uploading our dataset from local source: \n",
        "from google.colab import files\n",
        "files.upload()"
      ],
      "execution_count": 2,
      "outputs": [
        {
          "output_type": "display_data",
          "data": {
            "text/html": [
              "\n",
              "     <input type=\"file\" id=\"files-ecd6efa5-975d-4e99-b03b-4eb972108dd9\" name=\"files[]\" multiple disabled />\n",
              "     <output id=\"result-ecd6efa5-975d-4e99-b03b-4eb972108dd9\">\n",
              "      Upload widget is only available when the cell has been executed in the\n",
              "      current browser session. Please rerun this cell to enable.\n",
              "      </output>\n",
              "      <script src=\"/nbextensions/google.colab/files.js\"></script> "
            ],
            "text/plain": [
              "<IPython.core.display.HTML object>"
            ]
          },
          "metadata": {
            "tags": []
          }
        },
        {
          "output_type": "stream",
          "text": [
            "Saving disabled_community_dataset.csv to disabled_community_dataset.csv\n"
          ],
          "name": "stdout"
        },
        {
          "output_type": "execute_result",
          "data": {
            "text/plain": [
              "{'disabled_community_dataset.csv': b'\"state\",\"number_disabled\",\"total_population\",\"percent_disabled\",\"literacy_rate_disabled\",\"literacy_rate_general\",\"workforce_rate_disabled\",\"workforce_rate_general\"\\r\\n\"andaman and nicobar islands\",6660,380581,\"1.75\",\"65.45\",\"86.27\",\"31.00\",\"40.08\"\\r\\n\"andhra pradesh\",2266607,84580777,\"2.68\",\"48.33\",\"67.66\",\"39.00\",\"46.61\"\\r\\n\"arunachal pradesh\",26734,1383727,\"1.93\",\"38.75\",\"66.95\",\"45.00\",\"42.47\"\\r\\n\"assam\",480065,31205576,\"1.54\",\"48.25\",\"73.18\",\"34.00\",\"38.36\"\\r\\n\"bihar\",2331009,104099452,\"2.24\",\"47.3\",\"63.82\",\"37.00\",\"33.36\"\\r\\n\"chandigarh\",14796,1055450,\"1.4\",\"67.66\",\"86.43\",\"31.00\",\"38.29\"\\r\\n\"chhattisgarh\",624937,25545198,\"2.45\",\"48.53\",\"71.04\",\"39.00\",\"47.68\"\\r\\n\"dadra & nagar haveli\",3294,343709,\"0.96\",\"50.76\",\"77.65\",\"35.00\",\"45.73\"\\r\\n\"daman & diu\",2196,243247,\"0.9\",\"62.02\",\"87.07\",\"35.00\",\"49.86\"\\r\\n\"delhi\",234882,16787941,\"1.4\",\"65.32\",\"86.34\",\"28.00\",\"33.28\"\\r\\n\"goa\",33012,1458545,\"2.26\",\"70.31\",\"87.4\",\"29.00\",\"39.58\"\\r\\n\"gujarat\",1092302,60439692,\"1.81\",\"62.84\",\"79.31\",\"35.00\",\"40.98\"\\r\\n\"haryana\",546374,25351462,\"2.16\",\"54.51\",\"76.64\",\"31.00\",\"35.17\"\\r\\n\"himachal pradesh\",155316,6864602,\"2.26\",\"55.97\",\"83.78\",\"44.00\",\"51.85\"\\r\\n\"india\",26814994,1210854977,\"2.21\",\"54.52\",\"74.04\",\"36.00\",\"39.79\"\\r\\n\"jammu & kashmir\",361153,12541302,\"2.88\",\"41.8\",\"68.74\",\"34.00\",\"34.47\"\\r\\n\"jharkhand\",769980,32988134,\"2.33\",\"46.93\",\"67.63\",\"38.00\",\"39.71\"\\r\\n\"karnataka\",1324205,61095297,\"2.17\",\"59.45\",\"75.6\",\"38.00\",\"45.62\"\\r\\n\"kerala\",761843,33406061,\"2.28\",\"70.79\",\"93.91\",\"24.00\",\"34.78\"\\r\\n\"lakshadweep\",1615,64473,\"2.5\",\"66.25\",\"92.28\",\"20.00\",\"29.09\"\\r\\n\"madhya pradesh\",1551931,72626809,\"2.14\",\"52.54\",\"70.63\",\"40.00\",\"43.47\"\\r\\n\"maharashtra\",2963392,112374333,\"2.64\",\"67.64\",\"82.91\",\"42.00\",\"43.99\"\\r\\n\"manipur\",58547,2855794,\"2.05\",\"58.64\",\"79.85\",\"44.00\",\"45.09\"\\r\\n\"meghalaya\",44317,2966889,\"1.49\",\"47.71\",\"75.48\",\"38.00\",\"39.96\"\\r\\n\"mizoram\",15160,1097206,\"1.38\",\"61.92\",\"91.58\",\"36.00\",\"44.36\"\\r\\n\"nagaland\",29631,1978502,\"1.5\",\"43.55\",\"80.11\",\"52.00\",\"49.24\"\\r\\n\"odisha\",1244402,41974218,\"2.96\",\"53.17\",\"73.45\",\"34.00\",\"41.79\"\\r\\n\"puducherry\",30189,1247953,\"2.42\",\"63.09\",\"86.55\",\"31.00\",\"35.66\"\\r\\n\"punjab\",654063,27743338,\"2.36\",\"56.62\",\"76.68\",\"33.00\",\"35.67\"\\r\\n\"rajasthan\",1563694,68548437,\"2.28\",\"40.16\",\"67.06\",\"35.00\",\"43.6\"\\r\\n\"sikkim\",18187,610577,\"2.98\",\"45.51\",\"82.2\",\"49.00\",\"50.47\"\\r\\n\"tamil nadu\",1179963,72147030,\"1.64\",\"60.66\",\"80.33\",\"37.00\",\"45.58\"\\r\\n\"tripura\",64346,3673917,\"1.75\",\"66.37\",\"87.75\",\"34.00\",\"40\"\\r\\n\"uttar pradesh\",4157514,199812341,\"2.08\",\"52.12\",\"69.72\",\"35.00\",\"32.94\"\\r\\n\"uttarakhand\",185272,10086292,\"1.84\",\"55.59\",\"79.63\",\"35.00\",\"38.39\"\\r\\n\"west bengal\",2017406,91276115,\"2.21\",\"57.34\",\"77.08\",\"34.00\",\"38.08\"\\r\\n'}"
            ]
          },
          "metadata": {
            "tags": []
          },
          "execution_count": 2
        }
      ]
    },
    {
      "cell_type": "code",
      "metadata": {
        "id": "MiDvRmBaFCg0",
        "colab_type": "code",
        "outputId": "ff9dfe3c-38e6-4af9-fe06-c205fe86d4ef",
        "colab": {
          "base_uri": "https://localhost:8080/",
          "height": 202
        }
      },
      "source": [
        "# reading the file into a dataframe and displaying its first  5 rows:\n",
        "df=pd.read_csv('disabled_community_dataset.csv')\n",
        "df.head()"
      ],
      "execution_count": 3,
      "outputs": [
        {
          "output_type": "execute_result",
          "data": {
            "text/html": [
              "<div>\n",
              "<style scoped>\n",
              "    .dataframe tbody tr th:only-of-type {\n",
              "        vertical-align: middle;\n",
              "    }\n",
              "\n",
              "    .dataframe tbody tr th {\n",
              "        vertical-align: top;\n",
              "    }\n",
              "\n",
              "    .dataframe thead th {\n",
              "        text-align: right;\n",
              "    }\n",
              "</style>\n",
              "<table border=\"1\" class=\"dataframe\">\n",
              "  <thead>\n",
              "    <tr style=\"text-align: right;\">\n",
              "      <th></th>\n",
              "      <th>state</th>\n",
              "      <th>number_disabled</th>\n",
              "      <th>total_population</th>\n",
              "      <th>percent_disabled</th>\n",
              "      <th>literacy_rate_disabled</th>\n",
              "      <th>literacy_rate_general</th>\n",
              "      <th>workforce_rate_disabled</th>\n",
              "      <th>workforce_rate_general</th>\n",
              "    </tr>\n",
              "  </thead>\n",
              "  <tbody>\n",
              "    <tr>\n",
              "      <th>0</th>\n",
              "      <td>andaman and nicobar islands</td>\n",
              "      <td>6660</td>\n",
              "      <td>380581</td>\n",
              "      <td>1.75</td>\n",
              "      <td>65.45</td>\n",
              "      <td>86.27</td>\n",
              "      <td>31.0</td>\n",
              "      <td>40.08</td>\n",
              "    </tr>\n",
              "    <tr>\n",
              "      <th>1</th>\n",
              "      <td>andhra pradesh</td>\n",
              "      <td>2266607</td>\n",
              "      <td>84580777</td>\n",
              "      <td>2.68</td>\n",
              "      <td>48.33</td>\n",
              "      <td>67.66</td>\n",
              "      <td>39.0</td>\n",
              "      <td>46.61</td>\n",
              "    </tr>\n",
              "    <tr>\n",
              "      <th>2</th>\n",
              "      <td>arunachal pradesh</td>\n",
              "      <td>26734</td>\n",
              "      <td>1383727</td>\n",
              "      <td>1.93</td>\n",
              "      <td>38.75</td>\n",
              "      <td>66.95</td>\n",
              "      <td>45.0</td>\n",
              "      <td>42.47</td>\n",
              "    </tr>\n",
              "    <tr>\n",
              "      <th>3</th>\n",
              "      <td>assam</td>\n",
              "      <td>480065</td>\n",
              "      <td>31205576</td>\n",
              "      <td>1.54</td>\n",
              "      <td>48.25</td>\n",
              "      <td>73.18</td>\n",
              "      <td>34.0</td>\n",
              "      <td>38.36</td>\n",
              "    </tr>\n",
              "    <tr>\n",
              "      <th>4</th>\n",
              "      <td>bihar</td>\n",
              "      <td>2331009</td>\n",
              "      <td>104099452</td>\n",
              "      <td>2.24</td>\n",
              "      <td>47.30</td>\n",
              "      <td>63.82</td>\n",
              "      <td>37.0</td>\n",
              "      <td>33.36</td>\n",
              "    </tr>\n",
              "  </tbody>\n",
              "</table>\n",
              "</div>"
            ],
            "text/plain": [
              "                         state  ...  workforce_rate_general\n",
              "0  andaman and nicobar islands  ...                   40.08\n",
              "1               andhra pradesh  ...                   46.61\n",
              "2            arunachal pradesh  ...                   42.47\n",
              "3                        assam  ...                   38.36\n",
              "4                        bihar  ...                   33.36\n",
              "\n",
              "[5 rows x 8 columns]"
            ]
          },
          "metadata": {
            "tags": []
          },
          "execution_count": 3
        }
      ]
    },
    {
      "cell_type": "markdown",
      "metadata": {
        "id": "miXF8pu9Fu0v",
        "colab_type": "text"
      },
      "source": [
        "Given above is the first 5 rows of the dataset prepared. \n",
        "The columns and what they represent is as :\n",
        "1. State\n",
        "2. number_disabled : It gives the total number of people in the region that are disabled.\n",
        "3. total_population: It gives the total number of people in the region.\n",
        "4. percent_disabled: It gives the total percentage of the people disabled in athe given region.\n",
        "5. literacy_rate_disabled : It represents the literacy rate of the disabled community in the region.\n",
        "6. literacy_rate_general : It shows the total literacy rate of the population in the state.\n",
        "7. workforce_rate_disabled : It tells us the total percent of all the disabled people that are part of the workforce in the given region.(inclusive all ages).\n",
        "8.  workforce_rate_general : It shows the total percent of all the people that are part of the workforce in the given region(inclusive of all ages)."
      ]
    },
    {
      "cell_type": "markdown",
      "metadata": {
        "id": "2ER88rT8HkdO",
        "colab_type": "text"
      },
      "source": [
        "### Exploratory data analysis:\n",
        "As a first step, the summary statistics is viewed and given below."
      ]
    },
    {
      "cell_type": "code",
      "metadata": {
        "id": "t_pdCUcbFdKO",
        "colab_type": "code",
        "outputId": "e19a0ad9-37bb-4176-957e-53268880a084",
        "colab": {
          "base_uri": "https://localhost:8080/",
          "height": 294
        }
      },
      "source": [
        "df.describe()"
      ],
      "execution_count": 4,
      "outputs": [
        {
          "output_type": "execute_result",
          "data": {
            "text/html": [
              "<div>\n",
              "<style scoped>\n",
              "    .dataframe tbody tr th:only-of-type {\n",
              "        vertical-align: middle;\n",
              "    }\n",
              "\n",
              "    .dataframe tbody tr th {\n",
              "        vertical-align: top;\n",
              "    }\n",
              "\n",
              "    .dataframe thead th {\n",
              "        text-align: right;\n",
              "    }\n",
              "</style>\n",
              "<table border=\"1\" class=\"dataframe\">\n",
              "  <thead>\n",
              "    <tr style=\"text-align: right;\">\n",
              "      <th></th>\n",
              "      <th>number_disabled</th>\n",
              "      <th>total_population</th>\n",
              "      <th>percent_disabled</th>\n",
              "      <th>literacy_rate_disabled</th>\n",
              "      <th>literacy_rate_general</th>\n",
              "      <th>workforce_rate_disabled</th>\n",
              "      <th>workforce_rate_general</th>\n",
              "    </tr>\n",
              "  </thead>\n",
              "  <tbody>\n",
              "    <tr>\n",
              "      <th>count</th>\n",
              "      <td>3.600000e+01</td>\n",
              "      <td>3.600000e+01</td>\n",
              "      <td>36.000000</td>\n",
              "      <td>36.000000</td>\n",
              "      <td>36.000000</td>\n",
              "      <td>36.000000</td>\n",
              "      <td>36.000000</td>\n",
              "    </tr>\n",
              "    <tr>\n",
              "      <th>mean</th>\n",
              "      <td>1.489722e+06</td>\n",
              "      <td>6.726972e+07</td>\n",
              "      <td>2.050833</td>\n",
              "      <td>55.788056</td>\n",
              "      <td>78.520833</td>\n",
              "      <td>35.888889</td>\n",
              "      <td>40.973611</td>\n",
              "    </tr>\n",
              "    <tr>\n",
              "      <th>std</th>\n",
              "      <td>4.450931e+06</td>\n",
              "      <td>2.008793e+08</td>\n",
              "      <td>0.514434</td>\n",
              "      <td>8.907164</td>\n",
              "      <td>8.040961</td>\n",
              "      <td>6.246269</td>\n",
              "      <td>5.559843</td>\n",
              "    </tr>\n",
              "    <tr>\n",
              "      <th>min</th>\n",
              "      <td>1.615000e+03</td>\n",
              "      <td>6.447300e+04</td>\n",
              "      <td>0.900000</td>\n",
              "      <td>38.750000</td>\n",
              "      <td>63.820000</td>\n",
              "      <td>20.000000</td>\n",
              "      <td>29.090000</td>\n",
              "    </tr>\n",
              "    <tr>\n",
              "      <th>25%</th>\n",
              "      <td>3.004950e+04</td>\n",
              "      <td>1.439840e+06</td>\n",
              "      <td>1.722500</td>\n",
              "      <td>48.310000</td>\n",
              "      <td>72.645000</td>\n",
              "      <td>33.750000</td>\n",
              "      <td>37.477500</td>\n",
              "    </tr>\n",
              "    <tr>\n",
              "      <th>50%</th>\n",
              "      <td>4.206090e+05</td>\n",
              "      <td>2.106970e+07</td>\n",
              "      <td>2.165000</td>\n",
              "      <td>55.780000</td>\n",
              "      <td>78.480000</td>\n",
              "      <td>35.000000</td>\n",
              "      <td>40.040000</td>\n",
              "    </tr>\n",
              "    <tr>\n",
              "      <th>75%</th>\n",
              "      <td>1.264353e+06</td>\n",
              "      <td>6.295858e+07</td>\n",
              "      <td>2.337500</td>\n",
              "      <td>62.902500</td>\n",
              "      <td>86.287500</td>\n",
              "      <td>38.250000</td>\n",
              "      <td>45.212500</td>\n",
              "    </tr>\n",
              "    <tr>\n",
              "      <th>max</th>\n",
              "      <td>2.681499e+07</td>\n",
              "      <td>1.210855e+09</td>\n",
              "      <td>2.980000</td>\n",
              "      <td>70.790000</td>\n",
              "      <td>93.910000</td>\n",
              "      <td>52.000000</td>\n",
              "      <td>51.850000</td>\n",
              "    </tr>\n",
              "  </tbody>\n",
              "</table>\n",
              "</div>"
            ],
            "text/plain": [
              "       number_disabled  ...  workforce_rate_general\n",
              "count     3.600000e+01  ...               36.000000\n",
              "mean      1.489722e+06  ...               40.973611\n",
              "std       4.450931e+06  ...                5.559843\n",
              "min       1.615000e+03  ...               29.090000\n",
              "25%       3.004950e+04  ...               37.477500\n",
              "50%       4.206090e+05  ...               40.040000\n",
              "75%       1.264353e+06  ...               45.212500\n",
              "max       2.681499e+07  ...               51.850000\n",
              "\n",
              "[8 rows x 7 columns]"
            ]
          },
          "metadata": {
            "tags": []
          },
          "execution_count": 4
        }
      ]
    },
    {
      "cell_type": "markdown",
      "metadata": {
        "id": "PDX7F1P7IIao",
        "colab_type": "text"
      },
      "source": [
        "Looking at the summary statistics, it is very clear that there is a marked difference between the literacy rate of the disabled people and the population in total. \n",
        "A similar (albeit lower) difference is seen between the workforce percentages.\n",
        "Note that the data does not include Telangana due to the fact that Telangana was formed after 2011. In its stead we have placed the average values for India as a total which can be a little misleading and will skew the data very slightly. \n",
        "\n",
        "Next, the visualization done in tableau is given below as an interactive embedded view."
      ]
    },
    {
      "cell_type": "code",
      "metadata": {
        "id": "DYEbn_iWHwGL",
        "colab_type": "code",
        "outputId": "fb077fcc-ef70-4a4b-86a8-e8ee1d4f2708",
        "colab": {
          "base_uri": "https://localhost:8080/",
          "height": 1000
        }
      },
      "source": [
        "%%html\n",
        "<div class='tableauPlaceholder' id='viz1590415570636' style='position: relative'><noscript><a href='#'><img alt=' ' src='https:&#47;&#47;public.tableau.com&#47;static&#47;images&#47;Di&#47;DisabledcommunityIndia&#47;Dashboard1&#47;1_rss.png' style='border: none' /></a></noscript><object class='tableauViz'  style='display:none;'><param name='host_url' value='https%3A%2F%2Fpublic.tableau.com%2F' /> <param name='embed_code_version' value='3' /> <param name='site_root' value='' /><param name='name' value='DisabledcommunityIndia&#47;Dashboard1' /><param name='tabs' value='no' /><param name='toolbar' value='yes' /><param name='static_image' value='https:&#47;&#47;public.tableau.com&#47;static&#47;images&#47;Di&#47;DisabledcommunityIndia&#47;Dashboard1&#47;1.png' /> <param name='animate_transition' value='yes' /><param name='display_static_image' value='yes' /><param name='display_spinner' value='yes' /><param name='display_overlay' value='yes' /><param name='display_count' value='yes' /></object></div>                <script type='text/javascript'>                    var divElement = document.getElementById('viz1590415570636');                    var vizElement = divElement.getElementsByTagName('object')[0];                    if ( divElement.offsetWidth > 800 ) { vizElement.style.minWidth='420px';vizElement.style.maxWidth='650px';vizElement.style.width='100%';vizElement.style.minHeight='587px';vizElement.style.maxHeight='887px';vizElement.style.height=(divElement.offsetWidth*0.75)+'px';} else if ( divElement.offsetWidth > 500 ) { vizElement.style.minWidth='420px';vizElement.style.maxWidth='650px';vizElement.style.width='100%';vizElement.style.minHeight='587px';vizElement.style.maxHeight='887px';vizElement.style.height=(divElement.offsetWidth*0.75)+'px';} else { vizElement.style.width='100%';vizElement.style.height='727px';}                     var scriptElement = document.createElement('script');                    scriptElement.src = 'https://public.tableau.com/javascripts/api/viz_v1.js';                    vizElement.parentNode.insertBefore(scriptElement, vizElement);                </script>"
      ],
      "execution_count": 5,
      "outputs": [
        {
          "output_type": "display_data",
          "data": {
            "text/html": [
              "<div class='tableauPlaceholder' id='viz1590415570636' style='position: relative'><noscript><a href='#'><img alt=' ' src='https:&#47;&#47;public.tableau.com&#47;static&#47;images&#47;Di&#47;DisabledcommunityIndia&#47;Dashboard1&#47;1_rss.png' style='border: none' /></a></noscript><object class='tableauViz'  style='display:none;'><param name='host_url' value='https%3A%2F%2Fpublic.tableau.com%2F' /> <param name='embed_code_version' value='3' /> <param name='site_root' value='' /><param name='name' value='DisabledcommunityIndia&#47;Dashboard1' /><param name='tabs' value='no' /><param name='toolbar' value='yes' /><param name='static_image' value='https:&#47;&#47;public.tableau.com&#47;static&#47;images&#47;Di&#47;DisabledcommunityIndia&#47;Dashboard1&#47;1.png' /> <param name='animate_transition' value='yes' /><param name='display_static_image' value='yes' /><param name='display_spinner' value='yes' /><param name='display_overlay' value='yes' /><param name='display_count' value='yes' /></object></div>                <script type='text/javascript'>                    var divElement = document.getElementById('viz1590415570636');                    var vizElement = divElement.getElementsByTagName('object')[0];                    if ( divElement.offsetWidth > 800 ) { vizElement.style.minWidth='420px';vizElement.style.maxWidth='650px';vizElement.style.width='100%';vizElement.style.minHeight='587px';vizElement.style.maxHeight='887px';vizElement.style.height=(divElement.offsetWidth*0.75)+'px';} else if ( divElement.offsetWidth > 500 ) { vizElement.style.minWidth='420px';vizElement.style.maxWidth='650px';vizElement.style.width='100%';vizElement.style.minHeight='587px';vizElement.style.maxHeight='887px';vizElement.style.height=(divElement.offsetWidth*0.75)+'px';} else { vizElement.style.width='100%';vizElement.style.height='727px';}                     var scriptElement = document.createElement('script');                    scriptElement.src = 'https://public.tableau.com/javascripts/api/viz_v1.js';                    vizElement.parentNode.insertBefore(scriptElement, vizElement);                </script>"
            ],
            "text/plain": [
              "<IPython.core.display.HTML object>"
            ]
          },
          "metadata": {
            "tags": []
          }
        }
      ]
    },
    {
      "cell_type": "markdown",
      "metadata": {
        "id": "_UM6JpYgKeWr",
        "colab_type": "text"
      },
      "source": [
        "The states with higher values of literacy can be seen with deeper shade of red.\n",
        "One interesting point to note is that there approximately a consistent difference of 20% in the difference between the literacy rates of the disabled people and the general population for every state which is extremely high.\n",
        "We can see that Kerala has the highest literate population among the states with a literacy rate of 70% closely followed by Goa, and seem to be following the trend of the general population's literacy rate. We can see how the literacy rate of the disabled community varies with that of the total population below.\n",
        "\n"
      ]
    },
    {
      "cell_type": "code",
      "metadata": {
        "id": "DUFrjVOLJ9tL",
        "colab_type": "code",
        "outputId": "6d690d43-ad78-4969-f51d-f7dbc977e581",
        "colab": {
          "base_uri": "https://localhost:8080/",
          "height": 502
        }
      },
      "source": [
        "sns.set_style('whitegrid')\n",
        "sns.regplot(x=df['literacy_rate_disabled'],y=df['literacy_rate_general'],color='purple');\n",
        "sns.set(rc={'figure.figsize':(20,8)})"
      ],
      "execution_count": 17,
      "outputs": [
        {
          "output_type": "display_data",
          "data": {
            "image/png": "[encoded data removed]",
            "text/plain": [
              "<Figure size 720x576 with 1 Axes>"
            ]
          },
          "metadata": {
            "tags": []
          }
        }
      ]
    },
    {
      "cell_type": "markdown",
      "metadata": {
        "id": "WGPLlWmEP_Rt",
        "colab_type": "text"
      },
      "source": [
        "There is a clear upward trend as expected.\n",
        "\n",
        "For the final part of the analysis we will take a look at the relationship between the literacy rate and the percentage of the population in the workforce.\n",
        "\n",
        "Given below is the relation between the literacy rate and the percent of the population in the workforce for both the disabled community and the general population. Hover over the points to get more information."
      ]
    },
    {
      "cell_type": "code",
      "metadata": {
        "id": "bUht9aCGOW42",
        "colab_type": "code",
        "outputId": "0f9846ce-18d0-4088-c4eb-d34220c4262c",
        "colab": {
          "base_uri": "https://localhost:8080/",
          "height": 744
        }
      },
      "source": [
        "%%html\n",
        "<div class='tableauPlaceholder' id='viz1590419786438' style='position: relative'><noscript><a href='#'><img alt=' ' src='https:&#47;&#47;public.tableau.com&#47;static&#47;images&#47;wo&#47;workforcevsliteracy&#47;Dashboard2&#47;1_rss.png' style='border: none' /></a></noscript><object class='tableauViz'  style='display:none;'><param name='host_url' value='https%3A%2F%2Fpublic.tableau.com%2F' /> <param name='embed_code_version' value='3' /> <param name='site_root' value='' /><param name='name' value='workforcevsliteracy&#47;Dashboard2' /><param name='tabs' value='no' /><param name='toolbar' value='yes' /><param name='static_image' value='https:&#47;&#47;public.tableau.com&#47;static&#47;images&#47;wo&#47;workforcevsliteracy&#47;Dashboard2&#47;1.png' /> <param name='animate_transition' value='yes' /><param name='display_static_image' value='yes' /><param name='display_spinner' value='yes' /><param name='display_overlay' value='yes' /><param name='display_count' value='yes' /><param name='filter' value='publish=yes' /></object></div>                <script type='text/javascript'>                    var divElement = document.getElementById('viz1590419786438');                    var vizElement = divElement.getElementsByTagName('object')[0];                    if ( divElement.offsetWidth > 800 ) { vizElement.style.width='100%';vizElement.style.height=(divElement.offsetWidth*0.75)+'px';} else if ( divElement.offsetWidth > 500 ) { vizElement.style.width='100%';vizElement.style.height=(divElement.offsetWidth*0.75)+'px';} else { vizElement.style.width='100%';vizElement.style.height='727px';}                     var scriptElement = document.createElement('script');                    scriptElement.src = 'https://public.tableau.com/javascripts/api/viz_v1.js';                    vizElement.parentNode.insertBefore(scriptElement, vizElement);                </script>"
      ],
      "execution_count": 8,
      "outputs": [
        {
          "output_type": "display_data",
          "data": {
            "text/html": [
              "<div class='tableauPlaceholder' id='viz1590419786438' style='position: relative'><noscript><a href='#'><img alt=' ' src='https:&#47;&#47;public.tableau.com&#47;static&#47;images&#47;wo&#47;workforcevsliteracy&#47;Dashboard2&#47;1_rss.png' style='border: none' /></a></noscript><object class='tableauViz'  style='display:none;'><param name='host_url' value='https%3A%2F%2Fpublic.tableau.com%2F' /> <param name='embed_code_version' value='3' /> <param name='site_root' value='' /><param name='name' value='workforcevsliteracy&#47;Dashboard2' /><param name='tabs' value='no' /><param name='toolbar' value='yes' /><param name='static_image' value='https:&#47;&#47;public.tableau.com&#47;static&#47;images&#47;wo&#47;workforcevsliteracy&#47;Dashboard2&#47;1.png' /> <param name='animate_transition' value='yes' /><param name='display_static_image' value='yes' /><param name='display_spinner' value='yes' /><param name='display_overlay' value='yes' /><param name='display_count' value='yes' /><param name='filter' value='publish=yes' /></object></div>                <script type='text/javascript'>                    var divElement = document.getElementById('viz1590419786438');                    var vizElement = divElement.getElementsByTagName('object')[0];                    if ( divElement.offsetWidth > 800 ) { vizElement.style.width='100%';vizElement.style.height=(divElement.offsetWidth*0.75)+'px';} else if ( divElement.offsetWidth > 500 ) { vizElement.style.width='100%';vizElement.style.height=(divElement.offsetWidth*0.75)+'px';} else { vizElement.style.width='100%';vizElement.style.height='727px';}                     var scriptElement = document.createElement('script');                    scriptElement.src = 'https://public.tableau.com/javascripts/api/viz_v1.js';                    vizElement.parentNode.insertBefore(scriptElement, vizElement);                </script>"
            ],
            "text/plain": [
              "<IPython.core.display.HTML object>"
            ]
          },
          "metadata": {
            "tags": []
          }
        }
      ]
    },
    {
      "cell_type": "markdown",
      "metadata": {
        "id": "EIM3bdv7bNao",
        "colab_type": "text"
      },
      "source": [
        "Surprisingly, there is a clear downward trend between the literacy rate of the disabled population and the workforce rate which is interesting as we expect a higher working population as the literacy rate increases. However, here the opposite is observed. The higher the literacy rate the lower the percentage of the population in the workforce, and even more oddly this trend seems to be only applicable for the disabled community, no such trend can be seen in the general population.\n",
        "Let us check whether how strong this relationship using an appropriate correlation coefficient.\n",
        "\n",
        "We will be using Pearson's correlation coefficient for our test.\n",
        "\n"
      ]
    },
    {
      "cell_type": "code",
      "metadata": {
        "id": "rMKPNDUTUHcF",
        "colab_type": "code",
        "colab": {
          "base_uri": "https://localhost:8080/",
          "height": 51
        },
        "outputId": "1fe0a287-f859-4683-e11a-dfff029f2442"
      },
      "source": [
        "#Importing library for finding the correlation coefficient:\n",
        "from scipy.stats.stats import pearsonr\n",
        "#Finding the correlation coefficient 'r' and p value 'p':\n",
        "correlation=pearsonr(df['literacy_rate_disabled'],df['workforce_rate_disabled'])\n",
        "print('Correlation coefficient r = ',correlation[0])\n",
        "print('p value = ', correlation[1])"
      ],
      "execution_count": 14,
      "outputs": [
        {
          "output_type": "stream",
          "text": [
            "Correlation coefficient r =  -0.567477940406339\n",
            "p value =  0.0003069273050257165\n"
          ],
          "name": "stdout"
        }
      ]
    },
    {
      "cell_type": "markdown",
      "metadata": {
        "id": "9o4wQA8wb-r_",
        "colab_type": "text"
      },
      "source": [
        "A correlation coefficient of -0.56 indicates the values are moderately correlated and is generally can be interpreted as a moderate negative relationship. The p-value roughly indicates the probability of an uncorrelated system producing datasets that have a Pearson correlation at least as extreme as the one computed from these datasets. A p value of 0.0003 indicates that it is extremely unlikely that there is no relation between the two columns."
      ]
    },
    {
      "cell_type": "markdown",
      "metadata": {
        "id": "gewZs6H6emNs",
        "colab_type": "text"
      },
      "source": [
        "A possible reason for this trend is that states with higher literacy rates tend to have a more wealthy population which could lead to lesser need for disabled people to work. Another point to be noted, all work is counted in the census and literacy is not a prerequisite for being a working member. A large proportion of the population works in the informal sector and the agricultural sectors which often times do not need people0 to be literate to be employable."
      ]
    },
    {
      "cell_type": "markdown",
      "metadata": {
        "id": "MG1tyMHei1OI",
        "colab_type": "text"
      },
      "source": [
        "## Conclusion\n",
        "A few important points can be inferred from this analysis. A major one being that there is a massive gap in terms of literacy between the disabled population and the general population which is quite concerning. A similar problem is seen in the workforce statistics. The workforce participation rate may not look that grim however, an overlooked point is the fact that a huge proportion of the labour workforce is severely underpaid and literate members of the community have a much higher income which indicates that there is a high chance of a very large income gap between the disabled population and the general population. This is indeed a problem especially considering that more than 26 million people are disabled. "
      ]
    }
  ]
}